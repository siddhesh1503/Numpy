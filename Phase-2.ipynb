{
 "cells": [
  {
   "cell_type": "markdown",
   "id": "40459666",
   "metadata": {},
   "source": [
    "### Numpy Array Operations"
   ]
  },
  {
   "cell_type": "code",
   "execution_count": 1,
   "id": "f0eaf293",
   "metadata": {},
   "outputs": [],
   "source": [
    "import numpy as np"
   ]
  },
  {
   "cell_type": "code",
   "execution_count": 2,
   "id": "43b191dd",
   "metadata": {},
   "outputs": [
    {
     "name": "stdout",
     "output_type": "stream",
     "text": [
      "Basic Sclicing [3 4 5 6 7]\n",
      "With step [2 4 6 8]\n",
      "Negative Indexing 8\n"
     ]
    }
   ],
   "source": [
    "arr = np.array([1, 2, 3, 4, 5, 6, 7, 8, 9, 10])\n",
    "print(\"Basic Sclicing\", arr[2:7])\n",
    "print(\"With step\", arr[1:8:2])\n",
    "print(\"Negative Indexing\", arr[-3])"
   ]
  },
  {
   "cell_type": "code",
   "execution_count": 9,
   "id": "5b9a4334",
   "metadata": {},
   "outputs": [
    {
     "name": "stdout",
     "output_type": "stream",
     "text": [
      "2D Array slicing 6\n",
      "Entire Row [[4 5 6]]\n",
      "Entire Column [2 5 8]\n"
     ]
    }
   ],
   "source": [
    "arr_2d = np.array([[1, 2, 3],\n",
    "                  [4, 5, 6],\n",
    "                  [7, 8, 9]])\n",
    "print(\"2D Array slicing\", arr_2d[1, 2])\n",
    "print(\"Entire Row\", arr_2d[1:2])\n",
    "print(\"Entire Column\", arr_2d[:, 1])"
   ]
  },
  {
   "cell_type": "markdown",
   "id": "a7f032a9",
   "metadata": {},
   "source": [
    "### Sorting"
   ]
  },
  {
   "cell_type": "code",
   "execution_count": 13,
   "id": "5f3a09f2",
   "metadata": {},
   "outputs": [
    {
     "name": "stdout",
     "output_type": "stream",
     "text": [
      "Sorted Array: [1 1 2 3 3 4 5 5 5 6 9]\n",
      "2D Array sorted by rows:\n",
      " [[1 3 4]\n",
      " [1 5 9]\n",
      " [2 3 5]]\n"
     ]
    }
   ],
   "source": [
    "unsorted = np.array([3, 1, 4, 1, 5, 9, 2, 6, 5, 3, 5])\n",
    "sorted_arr = np.sort(unsorted)\n",
    "print(\"Sorted Array:\", sorted_arr)\n",
    "\n",
    "arr_2d = np.array([[3, 1, 4],\n",
    "                    [1, 5, 9],\n",
    "                    [2, 3, 5]])\n",
    "print(\"2D Array sorted by rows:\\n\", np.sort(arr_2d, axis=1))\n"
   ]
  },
  {
   "cell_type": "markdown",
   "id": "7e34e23f",
   "metadata": {},
   "source": [
    "### Filter"
   ]
  },
  {
   "cell_type": "code",
   "execution_count": 15,
   "id": "60c3d487",
   "metadata": {},
   "outputs": [
    {
     "name": "stdout",
     "output_type": "stream",
     "text": [
      "Even Numbers: [ 2  4  6  8 10]\n",
      "Odd Numbers: [1 3 5 7 9]\n"
     ]
    }
   ],
   "source": [
    "numbers = np.array([1, 2, 3, 4, 5, 6, 7, 8, 9, 10])\n",
    "even_numbers = numbers[numbers % 2 == 0]\n",
    "print(\"Even Numbers:\", even_numbers)\n",
    "\n",
    "odd_numbers = numbers[numbers % 2 != 0]\n",
    "print(\"Odd Numbers:\", odd_numbers)"
   ]
  },
  {
   "cell_type": "markdown",
   "id": "71eea915",
   "metadata": {},
   "source": [
    "### Filter With Mask"
   ]
  },
  {
   "cell_type": "code",
   "execution_count": 16,
   "id": "7d1af06d",
   "metadata": {},
   "outputs": [
    {
     "name": "stdout",
     "output_type": "stream",
     "text": [
      "Numbers greater than 5: [ 6  7  8  9 10]\n"
     ]
    }
   ],
   "source": [
    "mask = numbers > 5\n",
    "print(\"Numbers greater than 5:\", numbers[mask])"
   ]
  },
  {
   "cell_type": "markdown",
   "metadata": {},
   "source": [
    "### Fancy Indexing VS np.where()"
   ]
  },
  {
   "cell_type": "code",
   "execution_count": 19,
   "id": "10e4f2b1",
   "metadata": {},
   "outputs": [
    {
     "name": "stdout",
     "output_type": "stream",
     "text": [
      "Numbers at indices: [1 4 6]\n",
      "NP Where: [ 6  7  8  9 10]\n"
     ]
    }
   ],
   "source": [
    "indices = [0, 3, 5]\n",
    "print(\"Numbers at indices:\", numbers[indices])\n",
    "\n",
    "where_result = np.where(numbers > 5)\n",
    "print(\"NP Where:\", numbers[where_result])"
   ]
  },
  {
   "cell_type": "code",
   "execution_count": 23,
   "id": "49ff73ea",
   "metadata": {},
   "outputs": [
    {
     "name": "stdout",
     "output_type": "stream",
     "text": [
      "Condition Array: [ 1  2  3  4  5 24 28 32 36 40]\n"
     ]
    }
   ],
   "source": [
    "conditon_array = np.where(numbers > 5, numbers*4, numbers)\n",
    "print(\"Condition Array:\", conditon_array)\n"
   ]
  },
  {
   "cell_type": "code",
   "execution_count": 24,
   "id": "ec2e508a",
   "metadata": {},
   "outputs": [
    {
     "name": "stdout",
     "output_type": "stream",
     "text": [
      "['false' 'false' 'false' 'false' 'false' 'true' 'true' 'true' 'true'\n",
      " 'true']\n"
     ]
    }
   ],
   "source": [
    "# Using numpy's where for element-wise condition\n",
    "result = np.where(numbers > 5, \"true\", \"false\")\n",
    "print(result)\n",
    "    "
   ]
  },
  {
   "cell_type": "markdown",
   "id": "ae54b6c2",
   "metadata": {},
   "source": [
    "### Adding and removing elements"
   ]
  },
  {
   "cell_type": "code",
   "execution_count": 5,
   "id": "90187c5b",
   "metadata": {},
   "outputs": [
    {
     "name": "stdout",
     "output_type": "stream",
     "text": [
      "Concatenated Array: [1 2 3 4 5 6]\n",
      "Stacked Array:\n",
      " [[1 2 3]\n",
      " [4 5 6]]\n",
      "Array after removing element at index 1: [1 3]\n"
     ]
    }
   ],
   "source": [
    "arr1 = np.array([1, 2, 3])\n",
    "arr2 = np.array([4, 5, 6])\n",
    "\n",
    "concatenated = np.concatenate((arr1, arr2))\n",
    "print(\"Concatenated Array:\", concatenated)\n",
    "\n",
    "stacked = np.stack((arr1, arr2))\n",
    "print(\"Stacked Array:\\n\", stacked)\n",
    "\n",
    "removed_element = np.delete(arr1, 1)\n",
    "print(\"Array after removing element at index 1:\", removed_element)"
   ]
  },
  {
   "cell_type": "markdown",
   "id": "777fa358",
   "metadata": {},
   "source": [
    "### Array compability"
   ]
  },
  {
   "cell_type": "code",
   "execution_count": null,
   "id": "2fed0620",
   "metadata": {},
   "outputs": [
    {
     "name": "stdout",
     "output_type": "stream",
     "text": [
      "Compability shape: False\n"
     ]
    }
   ],
   "source": [
    "a = np.array([1, 2, 3])\n",
    "b = np.array([4, 5, 6, 5])\n",
    "c = np.array([7, 8])\n",
    "print(\"Compability shape:\", a.shape == b.shape)"
   ]
  },
  {
   "cell_type": "code",
   "execution_count": null,
   "id": "71983c4c",
   "metadata": {},
   "outputs": [
    {
     "name": "stdout",
     "output_type": "stream",
     "text": [
      "[[1 2]\n",
      " [3 4]]\n",
      "Array after adding new row:\n",
      " [[1 2]\n",
      " [3 4]\n",
      " [5 6]]\n",
      "Array after adding new column:\n",
      " [[1 2 7]\n",
      " [3 4 8]\n",
      " [5 6 9]]\n"
     ]
    }
   ],
   "source": [
    "# Adding a new row (vstack)\n",
    "original = np.array([[1, 2],[3, 4]])\n",
    "new_row = np.array([[5, 6]])\n",
    "\n",
    "with_new_row = np.vstack((original, new_row))\n",
    "print(original)\n",
    "print(\"Array after adding new row:\\n\", with_new_row)\n",
    "\n",
    "# Adding a new column (hstack)\n",
    "new_column = np.array([[7],[8],[9]])\n",
    "with_new_column = np.hstack((with_new_row, new_column))\n",
    "print(\"Array after adding new column:\\n\", with_new_column)\n"
   ]
  }
 ],
 "metadata": {
  "kernelspec": {
   "display_name": ".venv",
   "language": "python",
   "name": "python3"
  },
  "language_info": {
   "codemirror_mode": {
    "name": "ipython",
    "version": 3
   },
   "file_extension": ".py",
   "mimetype": "text/x-python",
   "name": "python",
   "nbconvert_exporter": "python",
   "pygments_lexer": "ipython3",
   "version": "3.12.8"
  }
 },
 "nbformat": 4,
 "nbformat_minor": 5
}
