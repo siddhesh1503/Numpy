{
 "cells": [
  {
   "cell_type": "markdown",
   "id": "42df2a03",
   "metadata": {},
   "source": [
    "## Numpy array and basic\n",
    "learn numpy array and basic operations"
   ]
  },
  {
   "cell_type": "code",
   "execution_count": 3,
   "id": "2b3488e7",
   "metadata": {},
   "outputs": [],
   "source": [
    "import numpy as np"
   ]
  },
  {
   "cell_type": "markdown",
   "id": "7ff01341",
   "metadata": {},
   "source": [
    "## Creating array from list\n"
   ]
  },
  {
   "cell_type": "code",
   "execution_count": 4,
   "id": "3d1c436d",
   "metadata": {},
   "outputs": [
    {
     "name": "stdout",
     "output_type": "stream",
     "text": [
      "1D Array: [1 2 3 4 5]\n",
      "2D Array:\n",
      " [[1 2 3]\n",
      " [4 5 6]]\n"
     ]
    }
   ],
   "source": [
    "arr_1d = np.array([1, 2, 3, 4, 5])\n",
    "print(\"1D Array:\", arr_1d)\n",
    "\n",
    "arr_2d = np.array([[1, 2, 3], [4, 5, 6]])\n",
    "print(\"2D Array:\\n\", arr_2d)"
   ]
  },
  {
   "cell_type": "markdown",
   "id": "7963c146",
   "metadata": {},
   "source": [
    "## List vs Numpy Array"
   ]
  },
  {
   "cell_type": "code",
   "execution_count": null,
   "id": "9d51be05",
   "metadata": {},
   "outputs": [
    {
     "name": "stdout",
     "output_type": "stream",
     "text": [
      "Python list: [1, 2, 3, 4, 5, 1, 2, 3, 4, 5]\n",
      "Numpy array multiplication:  [ 2  4  6  8 10]\n",
      "Python list time: 0.39555859565734863\n",
      "Numpy array time: 0.020369291305541992\n"
     ]
    }
   ],
   "source": [
    "py_list = [1, 2, 3, 4, 5]\n",
    "print(\"Python list:\", py_list * 2)\n",
    "\n",
    "np_array = np.array([1, 2, 3, 4, 5]) # element wise multiplication\n",
    "print(\"Numpy array multiplication: \" , np_array * 2)\n",
    "\n",
    "import time\n",
    "start = time.time()\n",
    "py_list = [i*2 for i in range(1000000)]\n",
    "print(\"Python list time:\", time.time() - start)\n",
    "\n",
    " 2\n",
    "print(\"Numpy array time:\", time.time() - start)"
   ]
  },
  {
   "cell_type": "markdown",
   "id": "19a486d6",
   "metadata": {},
   "source": [
    "## Creating array from scratch"
   ]
  },
  {
   "cell_type": "code",
   "execution_count": null,
   "id": "53b9706a",
   "metadata": {},
   "outputs": [
    {
     "name": "stdout",
     "output_type": "stream",
     "text": [
      "Zeros array: \n",
      " [[0. 0. 0. 0.]\n",
      " [0. 0. 0. 0.]\n",
      " [0. 0. 0. 0.]]\n",
      "Ones array: \n",
      " [[1. 1. 1.]\n",
      " [1. 1. 1.]]\n",
      "Full array: \n",
      " [[7 7 7]\n",
      " [7 7 7]]\n",
      "Random array: \n",
      " [[0.79189306 0.62615677 0.4269608 ]\n",
      " [0.05197629 0.04069281 0.82200373]]\n",
      "Sequence array: \n",
      " [0 3 6 9]\n"
     ]
    }
   ],
   "source": [
    "import numpy as np   # safer way\n",
    "\n",
    "zeros = np.zeros((3, 4))\n",
    "print(\"Zeros array: \\n\", zeros)\n",
    "\n",
    "ones_array = np.ones((2, 3))\n",
    "print(\"Ones array: \\n\", ones_array)\n",
    "\n",
    "full = np.full((2, 3), 7)\n",
    "print(\"Full array: \\n\", full)\n",
    "\n",
    "random = np.random.rand(2, 3)\n",
    "print(\"Random array: \\n\", random) \n",
    "\n",
    "sequence = np.arange(0, 10, 3)\n",
    "print(\"Sequence array: \\n\", sequence)"
   ]
  },
  {
   "cell_type": "markdown",
   "id": "13b0922c",
   "metadata": {},
   "source": [
    "## Vector, Matrix and Tensor"
   ]
  },
  {
   "cell_type": "code",
   "execution_count": 24,
   "id": "375d45a5",
   "metadata": {},
   "outputs": [
    {
     "name": "stdout",
     "output_type": "stream",
     "text": [
      "Vector:\n",
      " [1 2 3]\n",
      "Matrix:\n",
      " [[1 2 3]\n",
      " [4 5 6]]\n",
      "Tensor:\n",
      " [[[1 2]\n",
      "  [3 4]]\n",
      "\n",
      " [[5 6]\n",
      "  [7 8]]]\n"
     ]
    }
   ],
   "source": [
    "vector = np.array([1, 2, 3])\n",
    "print(\"Vector:\\n\", vector)\n",
    "\n",
    "matrix = np.array([[1, 2, 3], [4, 5, 6]])\n",
    "print(\"Matrix:\\n\", matrix)\n",
    "\n",
    "tensor = np.array([[[1, 2], [3, 4]], [[5, 6], [7, 8]]])\n",
    "print(\"Tensor:\\n\", tensor)\n",
    "\n"
   ]
  },
  {
   "cell_type": "markdown",
   "id": "e4352a86",
   "metadata": {},
   "source": [
    "### Array Properties"
   ]
  },
  {
   "cell_type": "code",
   "execution_count": 2,
   "id": "e11b2ef4",
   "metadata": {},
   "outputs": [
    {
     "name": "stdout",
     "output_type": "stream",
     "text": [
      "Array Shape: (2, 3)\n",
      "Array Size: 6\n",
      "Array Dimensions: 2\n",
      "Array Data Type: int64\n",
      "Array Item Size (in bytes): 8\n"
     ]
    }
   ],
   "source": [
    "import numpy as np\n",
    "arr = np.array([[1, 2, 3], [4, 5, 6]])\n",
    "print(\"Array Shape:\", arr.shape)\n",
    "print(\"Array Size:\", arr.size)\n",
    "print(\"Array Dimensions:\", arr.ndim)\n",
    "print(\"Array Data Type:\", arr.dtype)\n",
    "print(\"Array Item Size (in bytes):\", arr.itemsize)\n"
   ]
  },
  {
   "cell_type": "markdown",
   "id": "621c8a6b",
   "metadata": {},
   "source": [
    "### Array Reshaping"
   ]
  },
  {
   "cell_type": "code",
   "execution_count": 8,
   "id": "86a2442d",
   "metadata": {},
   "outputs": [
    {
     "name": "stdout",
     "output_type": "stream",
     "text": [
      "Original Array: [ 0  1  2  3  4  5  6  7  8  9 10 11]\n",
      "Reshaped Array:\n",
      " [[ 0  1  2  3]\n",
      " [ 4  5  6  7]\n",
      " [ 8  9 10 11]]\n",
      "Flattened Array: [ 0  1  2  3  4  5  6  7  8  9 10 11]\n",
      "Raveled Array: [ 0  1  2  3  4  5  6  7  8  9 10 11]\n",
      "Transposed Array:\n",
      " [[ 0  4  8]\n",
      " [ 1  5  9]\n",
      " [ 2  6 10]\n",
      " [ 3  7 11]]\n"
     ]
    }
   ],
   "source": [
    "arr = np.arange(12)\n",
    "print(\"Original Array:\", arr)\n",
    "\n",
    "reshaped_arr = arr.reshape((3, 4))\n",
    "print(\"Reshaped Array:\\n\", reshaped_arr)\n",
    "\n",
    "# flatten (returns a copy of the array collapsed into one dimension)\n",
    "flattened = reshaped_arr.flatten()\n",
    "print(\"Flattened Array:\", flattened)\n",
    "\n",
    "# ravel (returns a flattened array, but is a view if possible)\n",
    "raveled = reshaped_arr.ravel()\n",
    "print(\"Raveled Array:\", raveled)\n",
    "\n",
    "transposed = reshaped_arr.T\n",
    "print(\"Transposed Array:\\n\", transposed)"
   ]
  },
  {
   "cell_type": "code",
   "execution_count": null,
   "id": "32af1be1",
   "metadata": {},
   "outputs": [],
   "source": []
  }
 ],
 "metadata": {
  "kernelspec": {
   "display_name": ".venv",
   "language": "python",
   "name": "python3"
  },
  "language_info": {
   "codemirror_mode": {
    "name": "ipython",
    "version": 3
   },
   "file_extension": ".py",
   "mimetype": "text/x-python",
   "name": "python",
   "nbconvert_exporter": "python",
   "pygments_lexer": "ipython3",
   "version": "3.12.8"
  }
 },
 "nbformat": 4,
 "nbformat_minor": 5
}
